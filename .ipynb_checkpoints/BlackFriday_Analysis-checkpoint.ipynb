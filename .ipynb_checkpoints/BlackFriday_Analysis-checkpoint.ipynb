{
 "cells": [
  {
   "cell_type": "code",
   "execution_count": 37,
   "metadata": {},
   "outputs": [],
   "source": [
    "import numpy as np \n",
    "import pandas as pd \n",
    "import matplotlib.pyplot as plt \n",
    "import seaborn as sns\n",
    "import matplotlib as mlp \n",
    "from sklearn.metrics import mean_squared_error\n",
    "from math import sqrt\n",
    "from sklearn.neighbors import KNeighborsClassifier\n",
    "from sklearn import metrics\n",
    "from sklearn.model_selection import cross_val_score\n",
    "from sklearn.model_selection import train_test_split\n",
    "\n",
    "#import os\n"
   ]
  },
  {
   "cell_type": "code",
   "execution_count": 2,
   "metadata": {},
   "outputs": [],
   "source": [
    "data = pd.read_csv('BlackFriday.csv')"
   ]
  },
  {
   "cell_type": "code",
   "execution_count": null,
   "metadata": {},
   "outputs": [],
   "source": [
    "data.head(10)"
   ]
  },
  {
   "cell_type": "code",
   "execution_count": null,
   "metadata": {},
   "outputs": [],
   "source": [
    "data.shape"
   ]
  },
  {
   "cell_type": "code",
   "execution_count": null,
   "metadata": {},
   "outputs": [],
   "source": [
    "data.info()"
   ]
  },
  {
   "cell_type": "code",
   "execution_count": null,
   "metadata": {},
   "outputs": [],
   "source": [
    "# I see that there are nulls in the data set \n",
    "# I want to see which columns has the null values -- Product Category 2 and 3 \n",
    "data.isna().any()"
   ]
  },
  {
   "cell_type": "code",
   "execution_count": null,
   "metadata": {
    "scrolled": true
   },
   "outputs": [],
   "source": [
    "data.isnull().sum()  # note that there are 537577 rows "
   ]
  },
  {
   "cell_type": "markdown",
   "metadata": {},
   "source": [
    "It makes sense for there to be missing values because some customers might only buy one category of product and not buy from the other 2 product categories. We should fill the missing value with a 0 to show this. \n",
    "\n",
    "Perhaps also state here the objective of this project\n",
    "\n",
    "Include the different sections:\n",
    "        + EDA \n",
    "        + ML \n",
    "        + Conclusion & Recommendation "
   ]
  },
  {
   "cell_type": "markdown",
   "metadata": {},
   "source": [
    "Most features are categorical. We will fill in the NAs with 0's for Product Category 2 and 3 "
   ]
  },
  {
   "cell_type": "code",
   "execution_count": 3,
   "metadata": {},
   "outputs": [],
   "source": [
    "data[\"Product_Category_2\"] = data[\"Product_Category_2\"].fillna(0)\n",
    "data[\"Product_Category_3\"] = data[\"Product_Category_3\"].fillna(0)"
   ]
  },
  {
   "cell_type": "markdown",
   "metadata": {},
   "source": [
    "# EDA"
   ]
  },
  {
   "cell_type": "markdown",
   "metadata": {},
   "source": [
    "I want to know the number of unique values in the columns to check if there are recurring customers and to see the variety in products offered "
   ]
  },
  {
   "cell_type": "code",
   "execution_count": null,
   "metadata": {},
   "outputs": [],
   "source": [
    "for col in data.columns:\n",
    "    print(col, data[col].nunique())"
   ]
  },
  {
   "cell_type": "markdown",
   "metadata": {},
   "source": [
    "Some interesting findings: \n",
    "- repeating customers\n",
    "- we can use these features to find interesting patterns in shopping habits"
   ]
  },
  {
   "cell_type": "markdown",
   "metadata": {},
   "source": [
    "Goals:\n",
    "- Predict purchase amount based on all features \n",
    "- Give recommendations based on age, location  "
   ]
  },
  {
   "cell_type": "code",
   "execution_count": null,
   "metadata": {},
   "outputs": [],
   "source": [
    "# Let's see ratio of women to men \n",
    "sns.countplot(data['Gender'])"
   ]
  },
  {
   "cell_type": "code",
   "execution_count": null,
   "metadata": {},
   "outputs": [],
   "source": [
    "# Now for age \n",
    "sns.countplot(data['Age'])"
   ]
  },
  {
   "cell_type": "code",
   "execution_count": null,
   "metadata": {},
   "outputs": [],
   "source": [
    "sns.countplot(data['Age'], hue = data['Gender'])"
   ]
  },
  {
   "cell_type": "code",
   "execution_count": null,
   "metadata": {},
   "outputs": [],
   "source": [
    "plt.hist(data['Purchase'], bins = 40)\n",
    "plt.xlabel('Purchase')\n",
    "plt.ylabel('Count')"
   ]
  },
  {
   "cell_type": "markdown",
   "metadata": {},
   "source": [
    "If we predict purchase amount, this would be our y variable. It seems like it is right skewed but more or less normal. "
   ]
  },
  {
   "cell_type": "markdown",
   "metadata": {},
   "source": [
    "See how I can group by user and see total purchase. Then see division between gender. If strong, then this would be good predictor "
   ]
  },
  {
   "cell_type": "markdown",
   "metadata": {},
   "source": [
    "Check to see if there is variation in occupation across cities "
   ]
  },
  {
   "cell_type": "code",
   "execution_count": null,
   "metadata": {},
   "outputs": [],
   "source": [
    "city_categs = ['A', 'B', 'C']"
   ]
  },
  {
   "cell_type": "code",
   "execution_count": null,
   "metadata": {},
   "outputs": [],
   "source": [
    "sns.countplot(data['City_Category'], order = city_categs, hue = data['Occupation'])\n",
    "plt.title('Number of Customers Per City')\n",
    "plt.legend(loc = 'right')"
   ]
  },
  {
   "cell_type": "code",
   "execution_count": null,
   "metadata": {},
   "outputs": [],
   "source": [
    "# To see total purchases use group by \n",
    "tot_purchases_city = data.groupby(['City_Category', 'Occupation']).agg({'Purchase':np.mean})\n",
    "sns.barplot(tot_purchases_city['City_Category', 'Purchase'], hue = tot_purchases_city)"
   ]
  },
  {
   "cell_type": "markdown",
   "metadata": {},
   "source": [
    "# Data Modeling"
   ]
  },
  {
   "cell_type": "markdown",
   "metadata": {},
   "source": [
    "Since most of the columns of the data set contain categorical data, we want to map them to float values."
   ]
  },
  {
   "cell_type": "code",
   "execution_count": 4,
   "metadata": {},
   "outputs": [],
   "source": [
    "def map_gender(gender):\n",
    "    if gender == 'M':\n",
    "        return 1.0\n",
    "    else:\n",
    "        return 0\n",
    "data['Gender'] = data['Gender'].apply(map_gender)\n"
   ]
  },
  {
   "cell_type": "code",
   "execution_count": 5,
   "metadata": {},
   "outputs": [],
   "source": [
    "def map_age(age):\n",
    "    if age == '0-17':\n",
    "        return 0\n",
    "    elif age == '18-25':\n",
    "        return 1.0\n",
    "    elif age == '26-35':\n",
    "        return 2\n",
    "    elif age == '36-45':\n",
    "        return 3\n",
    "    elif age == '46-50':\n",
    "        return 4\n",
    "    elif age == '51-55':\n",
    "        return 5\n",
    "    else:\n",
    "        return 6\n",
    "data['Age'] = data['Age'].apply(map_age)"
   ]
  },
  {
   "cell_type": "code",
   "execution_count": 6,
   "metadata": {},
   "outputs": [],
   "source": [
    "def map_city_categories(city_category):\n",
    "    if city_category == 'A':\n",
    "        return 2.0\n",
    "    elif city_category == 'B':\n",
    "        return 1.0\n",
    "    else:\n",
    "        return 0\n",
    "data['City_Category'] = data['City_Category'].apply(map_city_categories)"
   ]
  },
  {
   "cell_type": "code",
   "execution_count": 7,
   "metadata": {},
   "outputs": [],
   "source": [
    "def map_stay(stay):\n",
    "        if stay == '4+':\n",
    "            return 4.0\n",
    "        else:\n",
    "            return float(stay)\n",
    "data['Stay_In_Current_City_Years'] = data['Stay_In_Current_City_Years'].apply(map_stay) "
   ]
  },
  {
   "cell_type": "markdown",
   "metadata": {},
   "source": [
    "For predictive modeling, we can drop the User_ID and Product_ID columns, because we want to be able to predict the buying behavior of any customer, not just those who are already recorded in the dataset."
   ]
  },
  {
   "cell_type": "code",
   "execution_count": 13,
   "metadata": {},
   "outputs": [],
   "source": [
    "cols = ['User_ID','Product_ID']\n",
    "data.drop(cols, inplace = True, axis =1)"
   ]
  },
  {
   "cell_type": "code",
   "execution_count": 16,
   "metadata": {},
   "outputs": [],
   "source": [
    "data['Occupation'] = data['Occupation'].astype(float)\n",
    "data['Marital_Status'] = data['Marital_Status'].astype(float)\n",
    "data['Product_Category_1'] = data['Product_Category_1'].astype(float)\n",
    "data['Purchase'] = data['Purchase'].astype(float)"
   ]
  },
  {
   "cell_type": "code",
   "execution_count": 15,
   "metadata": {
    "scrolled": true
   },
   "outputs": [
    {
     "data": {
      "text/html": [
       "<div>\n",
       "<style scoped>\n",
       "    .dataframe tbody tr th:only-of-type {\n",
       "        vertical-align: middle;\n",
       "    }\n",
       "\n",
       "    .dataframe tbody tr th {\n",
       "        vertical-align: top;\n",
       "    }\n",
       "\n",
       "    .dataframe thead th {\n",
       "        text-align: right;\n",
       "    }\n",
       "</style>\n",
       "<table border=\"1\" class=\"dataframe\">\n",
       "  <thead>\n",
       "    <tr style=\"text-align: right;\">\n",
       "      <th></th>\n",
       "      <th>Gender</th>\n",
       "      <th>Age</th>\n",
       "      <th>Occupation</th>\n",
       "      <th>City_Category</th>\n",
       "      <th>Stay_In_Current_City_Years</th>\n",
       "      <th>Marital_Status</th>\n",
       "      <th>Product_Category_1</th>\n",
       "      <th>Product_Category_2</th>\n",
       "      <th>Product_Category_3</th>\n",
       "      <th>Purchase</th>\n",
       "    </tr>\n",
       "  </thead>\n",
       "  <tbody>\n",
       "    <tr>\n",
       "      <th>0</th>\n",
       "      <td>0.0</td>\n",
       "      <td>0.0</td>\n",
       "      <td>10.0</td>\n",
       "      <td>2.0</td>\n",
       "      <td>2.0</td>\n",
       "      <td>0.0</td>\n",
       "      <td>3.0</td>\n",
       "      <td>0.0</td>\n",
       "      <td>0.0</td>\n",
       "      <td>8370.0</td>\n",
       "    </tr>\n",
       "    <tr>\n",
       "      <th>1</th>\n",
       "      <td>0.0</td>\n",
       "      <td>0.0</td>\n",
       "      <td>10.0</td>\n",
       "      <td>2.0</td>\n",
       "      <td>2.0</td>\n",
       "      <td>0.0</td>\n",
       "      <td>1.0</td>\n",
       "      <td>6.0</td>\n",
       "      <td>14.0</td>\n",
       "      <td>15200.0</td>\n",
       "    </tr>\n",
       "    <tr>\n",
       "      <th>2</th>\n",
       "      <td>0.0</td>\n",
       "      <td>0.0</td>\n",
       "      <td>10.0</td>\n",
       "      <td>2.0</td>\n",
       "      <td>2.0</td>\n",
       "      <td>0.0</td>\n",
       "      <td>12.0</td>\n",
       "      <td>0.0</td>\n",
       "      <td>0.0</td>\n",
       "      <td>1422.0</td>\n",
       "    </tr>\n",
       "    <tr>\n",
       "      <th>3</th>\n",
       "      <td>0.0</td>\n",
       "      <td>0.0</td>\n",
       "      <td>10.0</td>\n",
       "      <td>2.0</td>\n",
       "      <td>2.0</td>\n",
       "      <td>0.0</td>\n",
       "      <td>12.0</td>\n",
       "      <td>14.0</td>\n",
       "      <td>0.0</td>\n",
       "      <td>1057.0</td>\n",
       "    </tr>\n",
       "    <tr>\n",
       "      <th>4</th>\n",
       "      <td>1.0</td>\n",
       "      <td>6.0</td>\n",
       "      <td>16.0</td>\n",
       "      <td>0.0</td>\n",
       "      <td>4.0</td>\n",
       "      <td>0.0</td>\n",
       "      <td>8.0</td>\n",
       "      <td>0.0</td>\n",
       "      <td>0.0</td>\n",
       "      <td>7969.0</td>\n",
       "    </tr>\n",
       "  </tbody>\n",
       "</table>\n",
       "</div>"
      ],
      "text/plain": [
       "   Gender  Age  Occupation  City_Category  Stay_In_Current_City_Years  \\\n",
       "0     0.0  0.0        10.0            2.0                         2.0   \n",
       "1     0.0  0.0        10.0            2.0                         2.0   \n",
       "2     0.0  0.0        10.0            2.0                         2.0   \n",
       "3     0.0  0.0        10.0            2.0                         2.0   \n",
       "4     1.0  6.0        16.0            0.0                         4.0   \n",
       "\n",
       "   Marital_Status  Product_Category_1  Product_Category_2  Product_Category_3  \\\n",
       "0             0.0                 3.0                 0.0                 0.0   \n",
       "1             0.0                 1.0                 6.0                14.0   \n",
       "2             0.0                12.0                 0.0                 0.0   \n",
       "3             0.0                12.0                14.0                 0.0   \n",
       "4             0.0                 8.0                 0.0                 0.0   \n",
       "\n",
       "   Purchase  \n",
       "0    8370.0  \n",
       "1   15200.0  \n",
       "2    1422.0  \n",
       "3    1057.0  \n",
       "4    7969.0  "
      ]
     },
     "execution_count": 15,
     "metadata": {},
     "output_type": "execute_result"
    }
   ],
   "source": [
    "data.head()\n"
   ]
  },
  {
   "cell_type": "code",
   "execution_count": 17,
   "metadata": {},
   "outputs": [
    {
     "name": "stdout",
     "output_type": "stream",
     "text": [
      "<class 'pandas.core.frame.DataFrame'>\n",
      "RangeIndex: 537577 entries, 0 to 537576\n",
      "Data columns (total 10 columns):\n",
      "Gender                        537577 non-null float64\n",
      "Age                           537577 non-null float64\n",
      "Occupation                    537577 non-null float64\n",
      "City_Category                 537577 non-null float64\n",
      "Stay_In_Current_City_Years    537577 non-null float64\n",
      "Marital_Status                537577 non-null float64\n",
      "Product_Category_1            537577 non-null float64\n",
      "Product_Category_2            537577 non-null float64\n",
      "Product_Category_3            537577 non-null float64\n",
      "Purchase                      537577 non-null float64\n",
      "dtypes: float64(10)\n",
      "memory usage: 41.0 MB\n"
     ]
    }
   ],
   "source": [
    "data.info()"
   ]
  },
  {
   "cell_type": "markdown",
   "metadata": {},
   "source": [
    "Now all the columns contain float values"
   ]
  },
  {
   "cell_type": "markdown",
   "metadata": {},
   "source": [
    "We want to try to predict one of the categorical variables based on the rest of the data. The columns that seem the most interesting to predict are Gender, Age, City Category, Stay In Current City Years, and Marital Status. For this, we chose to use a KNeighborsClassifier. Since the dataset has over 500,000 observations, we take a random sample of 2% of the observations in order to save computation time. To find out what value of n_neighbors we should use for the KNeighborsClassifier, first we can use 5-fold cross validation to test the classifier on the Age category over different values of n_neighbors."
   ]
  },
  {
   "cell_type": "code",
   "execution_count": 31,
   "metadata": {},
   "outputs": [
    {
     "data": {
      "image/png": "[encoded data removed]",
      "text/plain": [
       "<Figure size 432x288 with 1 Axes>"
      ]
     },
     "metadata": {
      "needs_background": "light"
     },
     "output_type": "display_data"
    }
   ],
   "source": [
    "x_vals = list(range(1, 200, 10))\n",
    "y_vals = []\n",
    "for i in range(1,200,10):\n",
    "    data_small = data.sample(frac=0.02,random_state=100)\n",
    "    X = data_small.drop(['Age'], axis=1)\n",
    "    y = data_small['Age']\n",
    "    KNNClf = KNeighborsClassifier(n_neighbors=i)\n",
    "    scores = cross_val_score(KNNClf, X, y, cv=5)\n",
    "    y_vals.append(1-np.mean(scores))\n",
    "\n",
    "plt.plot(x_vals, y_vals)\n",
    "plt.xlabel('Number of neighbors')\n",
    "plt.ylabel('Cross-validation error')\n",
    "plt.title('Number of neighbors vs. error')\n",
    "plt.show()"
   ]
  },
  {
   "cell_type": "markdown",
   "metadata": {},
   "source": [
    "Based on this graph, we can see that the training error remains relatively constant above n_neighbors=75, so we will use this value. In splitting the data into training and test sets, we use the default test size of 0.25. Then we compute the test error for each category. "
   ]
  },
  {
   "cell_type": "code",
   "execution_count": 32,
   "metadata": {},
   "outputs": [],
   "source": [
    "columns = ['Gender', 'Age','City_Category','Stay_In_Current_City_Years','Marital_Status']"
   ]
  },
  {
   "cell_type": "code",
   "execution_count": 35,
   "metadata": {},
   "outputs": [],
   "source": [
    "test_errors = []\n",
    "for i in range(0,5):\n",
    "    data_small = data.sample(frac=0.02,random_state=100)\n",
    "    X = data_small.drop([columns[i]], axis=1)\n",
    "    y = data_small[columns[i]]\n",
    "\n",
    "    X_train,X_test,y_train,y_test = train_test_split(X,y,random_state=100)\n",
    "    clf = KNeighborsClassifier(n_neighbors=75)\n",
    "    clf.fit(X_train, y_train)\n",
    "    y_test_pred = clf.predict(X_test)\n",
    "    test_error = 1 - metrics.accuracy_score(y_test, y_test_pred, normalize=True)\n",
    "    test_errors.append(test_error)\n"
   ]
  },
  {
   "cell_type": "code",
   "execution_count": 36,
   "metadata": {},
   "outputs": [
    {
     "data": {
      "image/png": "[encoded data removed]",
      "text/plain": [
       "<Figure size 432x288 with 1 Axes>"
      ]
     },
     "metadata": {
      "needs_background": "light"
     },
     "output_type": "display_data"
    }
   ],
   "source": [
    "y_pos = np.arange(len(columns))\n",
    "short_names = ['Gender', 'Age','City','City Stay','Marital Status']\n",
    "plt.bar(y_pos, test_errors, align='center', alpha=0.8)\n",
    "plt.xticks(y_pos, short_names)\n",
    "plt.ylabel('Test Error')\n",
    "plt.title('Test Error for Each Category')\n",
    " \n",
    "plt.show()"
   ]
  },
  {
   "cell_type": "markdown",
   "metadata": {},
   "source": [
    "As shown by this plot, the classifier had bad performance trying to predict most of the categories, performing the best when predicting gender. A possible reason for the bad performance is that there are no clear relationships in the data, so it is hard to predict what a category's value should be."
   ]
  },
  {
   "cell_type": "markdown",
   "metadata": {},
   "source": [
    "Another interesting thing we can do is predict the purchase amount given the rest of the dataset. Since purchase amount is not a categorical variable, we will use RMSE to evaluate the classifier."
   ]
  },
  {
   "cell_type": "code",
   "execution_count": 54,
   "metadata": {},
   "outputs": [
    {
     "data": {
      "image/png": "[encoded data removed]",
      "text/plain": [
       "<Figure size 432x288 with 1 Axes>"
      ]
     },
     "metadata": {
      "needs_background": "light"
     },
     "output_type": "display_data"
    }
   ],
   "source": [
    "x_vals = list(range(1, 50, 2))\n",
    "y_vals = []\n",
    "for i in range(1,50,2):\n",
    "    data_small = data.sample(frac=0.02,random_state=100)\n",
    "    X = data_small.drop(['Purchase'], axis=1)\n",
    "    y = data_small['Purchase']\n",
    "    \n",
    "    X_train,X_test,y_train,y_test = train_test_split(X,y,random_state=100)\n",
    "    clf = KNeighborsClassifier(n_neighbors=i)\n",
    "    clf.fit(X_train, y_train)\n",
    "    y_test_pred = clf.predict(X_test)\n",
    "    rms = sqrt(mean_squared_error(y_test, y_test_pred))\n",
    "    y_vals.append(rms)\n",
    "\n",
    "plt.plot(x_vals, y_vals)\n",
    "plt.xlabel('Number of neighbors')\n",
    "plt.ylabel('Cross-validation error')\n",
    "plt.title('Number of neighbors vs. error')\n",
    "plt.show()"
   ]
  },
  {
   "cell_type": "code",
   "execution_count": 59,
   "metadata": {},
   "outputs": [
    {
     "name": "stdout",
     "output_type": "stream",
     "text": [
      "4666.358507031562\n"
     ]
    }
   ],
   "source": [
    "print(min(y_vals))"
   ]
  },
  {
   "cell_type": "markdown",
   "metadata": {},
   "source": [
    "This classifier achieves the lowest RMSE (4666.359) when the n_neighbors parameter is 1. This may be because the purchase amount can be best predicted by the one observation closest to it, since some items are repeated in the data set and the price might be the same."
   ]
  }
 ],
 "metadata": {
  "kernelspec": {
   "display_name": "Python 3",
   "language": "python",
   "name": "python3"
  },
  "language_info": {
   "codemirror_mode": {
    "name": "ipython",
    "version": 3
   },
   "file_extension": ".py",
   "mimetype": "text/x-python",
   "name": "python",
   "nbconvert_exporter": "python",
   "pygments_lexer": "ipython3",
   "version": "3.7.0"
  }
 },
 "nbformat": 4,
 "nbformat_minor": 2
}
